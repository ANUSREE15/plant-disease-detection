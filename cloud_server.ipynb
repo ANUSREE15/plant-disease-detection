import firebase_admin
from firebase_admin import credentials
from firebase_admin import db
from firebase_admin import storage

cred = credentials.Certificate(’cardamom-gecka-firebase-adminsdk-pv62c-91769526a8.json

firebase_admin.initialize_app(cred, {
  ’databaseURL’: ’https://cardamom-gecka-default-rtdb.firebaseio.com/’,
  ’storageBucket’: ’cardamom-gecka.appspot.com’
})

local_image_file = ’./Samples/4.jpg’
firebase_storage_path = ’capture.jpg’
bucket = storage.bucket()
image_blob = bucket.blob(firebase_storage_path)
image_blob.upload_from_filename(local_image_file)
ref = db.reference(’/Mode’)
mode = ref.set(1)
